{
 "cells": [
  {
   "cell_type": "markdown",
   "id": "7a7bb873",
   "metadata": {},
   "source": [
    "# Simple Linear Regression"
   ]
  },
  {
   "cell_type": "markdown",
   "id": "06a8db77",
   "metadata": {},
   "source": [
    "Simple linear regression is used to estimate the relationship between two quantitative variables. \n",
    "\n",
    "It is used to find:\n",
    "1)How strong the relationship is between two variables.\n",
    "\n",
    "2)The value of the dependent variable at a certain value of the independent variable.\n"
   ]
  },
  {
   "cell_type": "markdown",
   "id": "1a47697f",
   "metadata": {},
   "source": [
    "Simple linear regression formula\n",
    "The formula for a simple linear regression is:\n",
    "\n",
    "y = b0+b1*x+e\n",
    "\n",
    "y = predicted value of the dependent variable (y) for any given value of the independent variable (x).\n",
    " \n",
    "B0 = intercept, the predicted value of y when the x is 0.\n",
    "\n",
    "B1 = regression coefficient – how much we expect y to change as x increases.\n",
    "\n",
    "x  =independent variable ( the variable we expect is influencing y).\n",
    "\n",
    "e  = error of the estimate, or how much variation there is in our estimate of the regression coefficient.\n",
    "\n",
    "Linear regression finds the line of best fit line through your data by searching for the regression coefficient (B1) that minimizes the total error (e) of the model."
   ]
  },
  {
   "cell_type": "markdown",
   "id": "0f100302",
   "metadata": {},
   "source": [
    "Assumptions of simple linear regression\n",
    "Simple linear regression is a parametric test, meaning that it makes certain assumptions about the data. These assumptions are:\n",
    "\n",
    "1)Homogeneity of variance (homoscedasticity): the size of the error in our prediction doesn’t change significantly across the values of the independent variable.\n",
    "\n",
    "2)Independence of observations: the observations in the dataset were collected using statistically valid sampling methods, and there are no hidden relationships among observations.\n",
    "\n",
    "3)Normality: The data follows a normal distribution.\n",
    "\n",
    "Linear regression makes one additional assumption:\n",
    "\n",
    "The relationship between the independent and dependent variable is linear: the line of best fit through the data points is a straight line (rather than a curve or some sort of grouping factor)."
   ]
  },
  {
   "cell_type": "code",
   "execution_count": 17,
   "id": "2be467af",
   "metadata": {},
   "outputs": [],
   "source": [
    "#Import Library pandas\n",
    "import pandas as pd"
   ]
  },
  {
   "cell_type": "code",
   "execution_count": 3,
   "id": "1e037b99",
   "metadata": {},
   "outputs": [],
   "source": [
    "#Read the dataset\n",
    "df=pd.read_table(r'C:\\Users\\Lenovo\\Desktop\\Archana Pachupate PC\\Praticals\\BSc 5 sem\\Paper 3\\1 st Pratical\\GroundWater (1).txt')"
   ]
  },
  {
   "cell_type": "code",
   "execution_count": 4,
   "id": "7c1b40ab",
   "metadata": {},
   "outputs": [
    {
     "data": {
      "text/html": [
       "<div>\n",
       "<style scoped>\n",
       "    .dataframe tbody tr th:only-of-type {\n",
       "        vertical-align: middle;\n",
       "    }\n",
       "\n",
       "    .dataframe tbody tr th {\n",
       "        vertical-align: top;\n",
       "    }\n",
       "\n",
       "    .dataframe thead th {\n",
       "        text-align: right;\n",
       "    }\n",
       "</style>\n",
       "<table border=\"1\" class=\"dataframe\">\n",
       "  <thead>\n",
       "    <tr style=\"text-align: right;\">\n",
       "      <th></th>\n",
       "      <th>phWellWater</th>\n",
       "      <th>Bicarbonate</th>\n",
       "    </tr>\n",
       "  </thead>\n",
       "  <tbody>\n",
       "    <tr>\n",
       "      <th>0</th>\n",
       "      <td>7.6</td>\n",
       "      <td>157</td>\n",
       "    </tr>\n",
       "    <tr>\n",
       "      <th>1</th>\n",
       "      <td>7.1</td>\n",
       "      <td>174</td>\n",
       "    </tr>\n",
       "    <tr>\n",
       "      <th>2</th>\n",
       "      <td>8.2</td>\n",
       "      <td>175</td>\n",
       "    </tr>\n",
       "    <tr>\n",
       "      <th>3</th>\n",
       "      <td>7.5</td>\n",
       "      <td>188</td>\n",
       "    </tr>\n",
       "    <tr>\n",
       "      <th>4</th>\n",
       "      <td>7.4</td>\n",
       "      <td>171</td>\n",
       "    </tr>\n",
       "    <tr>\n",
       "      <th>5</th>\n",
       "      <td>7.8</td>\n",
       "      <td>143</td>\n",
       "    </tr>\n",
       "    <tr>\n",
       "      <th>6</th>\n",
       "      <td>7.3</td>\n",
       "      <td>217</td>\n",
       "    </tr>\n",
       "    <tr>\n",
       "      <th>7</th>\n",
       "      <td>8.0</td>\n",
       "      <td>190</td>\n",
       "    </tr>\n",
       "    <tr>\n",
       "      <th>8</th>\n",
       "      <td>7.1</td>\n",
       "      <td>142</td>\n",
       "    </tr>\n",
       "    <tr>\n",
       "      <th>9</th>\n",
       "      <td>7.5</td>\n",
       "      <td>190</td>\n",
       "    </tr>\n",
       "    <tr>\n",
       "      <th>10</th>\n",
       "      <td>8.1</td>\n",
       "      <td>215</td>\n",
       "    </tr>\n",
       "    <tr>\n",
       "      <th>11</th>\n",
       "      <td>7.0</td>\n",
       "      <td>199</td>\n",
       "    </tr>\n",
       "    <tr>\n",
       "      <th>12</th>\n",
       "      <td>7.3</td>\n",
       "      <td>262</td>\n",
       "    </tr>\n",
       "    <tr>\n",
       "      <th>13</th>\n",
       "      <td>7.8</td>\n",
       "      <td>105</td>\n",
       "    </tr>\n",
       "    <tr>\n",
       "      <th>14</th>\n",
       "      <td>7.3</td>\n",
       "      <td>121</td>\n",
       "    </tr>\n",
       "    <tr>\n",
       "      <th>15</th>\n",
       "      <td>8.0</td>\n",
       "      <td>81</td>\n",
       "    </tr>\n",
       "    <tr>\n",
       "      <th>16</th>\n",
       "      <td>8.5</td>\n",
       "      <td>82</td>\n",
       "    </tr>\n",
       "    <tr>\n",
       "      <th>17</th>\n",
       "      <td>7.1</td>\n",
       "      <td>210</td>\n",
       "    </tr>\n",
       "    <tr>\n",
       "      <th>18</th>\n",
       "      <td>8.2</td>\n",
       "      <td>202</td>\n",
       "    </tr>\n",
       "    <tr>\n",
       "      <th>19</th>\n",
       "      <td>7.9</td>\n",
       "      <td>155</td>\n",
       "    </tr>\n",
       "    <tr>\n",
       "      <th>20</th>\n",
       "      <td>7.6</td>\n",
       "      <td>157</td>\n",
       "    </tr>\n",
       "    <tr>\n",
       "      <th>21</th>\n",
       "      <td>8.8</td>\n",
       "      <td>147</td>\n",
       "    </tr>\n",
       "    <tr>\n",
       "      <th>22</th>\n",
       "      <td>7.2</td>\n",
       "      <td>133</td>\n",
       "    </tr>\n",
       "    <tr>\n",
       "      <th>23</th>\n",
       "      <td>7.9</td>\n",
       "      <td>53</td>\n",
       "    </tr>\n",
       "    <tr>\n",
       "      <th>24</th>\n",
       "      <td>8.1</td>\n",
       "      <td>56</td>\n",
       "    </tr>\n",
       "    <tr>\n",
       "      <th>25</th>\n",
       "      <td>7.7</td>\n",
       "      <td>113</td>\n",
       "    </tr>\n",
       "    <tr>\n",
       "      <th>26</th>\n",
       "      <td>8.4</td>\n",
       "      <td>35</td>\n",
       "    </tr>\n",
       "    <tr>\n",
       "      <th>27</th>\n",
       "      <td>7.4</td>\n",
       "      <td>125</td>\n",
       "    </tr>\n",
       "    <tr>\n",
       "      <th>28</th>\n",
       "      <td>7.3</td>\n",
       "      <td>76</td>\n",
       "    </tr>\n",
       "    <tr>\n",
       "      <th>29</th>\n",
       "      <td>8.5</td>\n",
       "      <td>48</td>\n",
       "    </tr>\n",
       "    <tr>\n",
       "      <th>30</th>\n",
       "      <td>7.8</td>\n",
       "      <td>147</td>\n",
       "    </tr>\n",
       "    <tr>\n",
       "      <th>31</th>\n",
       "      <td>6.7</td>\n",
       "      <td>117</td>\n",
       "    </tr>\n",
       "    <tr>\n",
       "      <th>32</th>\n",
       "      <td>7.1</td>\n",
       "      <td>182</td>\n",
       "    </tr>\n",
       "    <tr>\n",
       "      <th>33</th>\n",
       "      <td>7.3</td>\n",
       "      <td>87</td>\n",
       "    </tr>\n",
       "  </tbody>\n",
       "</table>\n",
       "</div>"
      ],
      "text/plain": [
       "    phWellWater  Bicarbonate\n",
       "0           7.6          157\n",
       "1           7.1          174\n",
       "2           8.2          175\n",
       "3           7.5          188\n",
       "4           7.4          171\n",
       "5           7.8          143\n",
       "6           7.3          217\n",
       "7           8.0          190\n",
       "8           7.1          142\n",
       "9           7.5          190\n",
       "10          8.1          215\n",
       "11          7.0          199\n",
       "12          7.3          262\n",
       "13          7.8          105\n",
       "14          7.3          121\n",
       "15          8.0           81\n",
       "16          8.5           82\n",
       "17          7.1          210\n",
       "18          8.2          202\n",
       "19          7.9          155\n",
       "20          7.6          157\n",
       "21          8.8          147\n",
       "22          7.2          133\n",
       "23          7.9           53\n",
       "24          8.1           56\n",
       "25          7.7          113\n",
       "26          8.4           35\n",
       "27          7.4          125\n",
       "28          7.3           76\n",
       "29          8.5           48\n",
       "30          7.8          147\n",
       "31          6.7          117\n",
       "32          7.1          182\n",
       "33          7.3           87"
      ]
     },
     "execution_count": 4,
     "metadata": {},
     "output_type": "execute_result"
    }
   ],
   "source": [
    "df"
   ]
  },
  {
   "cell_type": "code",
   "execution_count": 8,
   "id": "10f6eb18",
   "metadata": {},
   "outputs": [
    {
     "data": {
      "text/html": [
       "<div>\n",
       "<style scoped>\n",
       "    .dataframe tbody tr th:only-of-type {\n",
       "        vertical-align: middle;\n",
       "    }\n",
       "\n",
       "    .dataframe tbody tr th {\n",
       "        vertical-align: top;\n",
       "    }\n",
       "\n",
       "    .dataframe thead th {\n",
       "        text-align: right;\n",
       "    }\n",
       "</style>\n",
       "<table border=\"1\" class=\"dataframe\">\n",
       "  <thead>\n",
       "    <tr style=\"text-align: right;\">\n",
       "      <th></th>\n",
       "      <th>phWellWater</th>\n",
       "      <th>Bicarbonate</th>\n",
       "    </tr>\n",
       "  </thead>\n",
       "  <tbody>\n",
       "    <tr>\n",
       "      <th>0</th>\n",
       "      <td>7.6</td>\n",
       "      <td>157</td>\n",
       "    </tr>\n",
       "    <tr>\n",
       "      <th>1</th>\n",
       "      <td>7.1</td>\n",
       "      <td>174</td>\n",
       "    </tr>\n",
       "    <tr>\n",
       "      <th>2</th>\n",
       "      <td>8.2</td>\n",
       "      <td>175</td>\n",
       "    </tr>\n",
       "    <tr>\n",
       "      <th>3</th>\n",
       "      <td>7.5</td>\n",
       "      <td>188</td>\n",
       "    </tr>\n",
       "    <tr>\n",
       "      <th>4</th>\n",
       "      <td>7.4</td>\n",
       "      <td>171</td>\n",
       "    </tr>\n",
       "  </tbody>\n",
       "</table>\n",
       "</div>"
      ],
      "text/plain": [
       "   phWellWater  Bicarbonate\n",
       "0          7.6          157\n",
       "1          7.1          174\n",
       "2          8.2          175\n",
       "3          7.5          188\n",
       "4          7.4          171"
      ]
     },
     "execution_count": 8,
     "metadata": {},
     "output_type": "execute_result"
    }
   ],
   "source": [
    "# Check the first few rows\n",
    "df.head()"
   ]
  },
  {
   "cell_type": "code",
   "execution_count": 10,
   "id": "883f6183",
   "metadata": {},
   "outputs": [
    {
     "data": {
      "text/plain": [
       "(34, 2)"
      ]
     },
     "execution_count": 10,
     "metadata": {},
     "output_type": "execute_result"
    }
   ],
   "source": [
    "# Check the dimensions (rows and columns)\n",
    "df.shape"
   ]
  },
  {
   "cell_type": "code",
   "execution_count": 11,
   "id": "126bb7a1",
   "metadata": {},
   "outputs": [
    {
     "data": {
      "text/plain": [
       "phWellWater    float64\n",
       "Bicarbonate      int64\n",
       "dtype: object"
      ]
     },
     "execution_count": 11,
     "metadata": {},
     "output_type": "execute_result"
    }
   ],
   "source": [
    "# Check data types of columns\n",
    "df.dtypes"
   ]
  },
  {
   "cell_type": "code",
   "execution_count": 13,
   "id": "03974d0d",
   "metadata": {},
   "outputs": [
    {
     "data": {
      "text/plain": [
       "phWellWater    0\n",
       "Bicarbonate    0\n",
       "dtype: int64"
      ]
     },
     "execution_count": 13,
     "metadata": {},
     "output_type": "execute_result"
    }
   ],
   "source": [
    "##Check missing values\n",
    "df.isnull().sum()"
   ]
  },
  {
   "cell_type": "code",
   "execution_count": 14,
   "id": "83a39748",
   "metadata": {},
   "outputs": [
    {
     "name": "stdout",
     "output_type": "stream",
     "text": [
      "<class 'pandas.core.frame.DataFrame'>\n",
      "RangeIndex: 34 entries, 0 to 33\n",
      "Data columns (total 2 columns):\n",
      " #   Column       Non-Null Count  Dtype  \n",
      "---  ------       --------------  -----  \n",
      " 0   phWellWater  34 non-null     float64\n",
      " 1   Bicarbonate  34 non-null     int64  \n",
      "dtypes: float64(1), int64(1)\n",
      "memory usage: 676.0 bytes\n"
     ]
    }
   ],
   "source": [
    "##General information\n",
    "df.info()"
   ]
  },
  {
   "cell_type": "code",
   "execution_count": 16,
   "id": "95e6aab4",
   "metadata": {},
   "outputs": [
    {
     "data": {
      "text/plain": [
       "Index(['phWellWater', 'Bicarbonate'], dtype='object')"
      ]
     },
     "execution_count": 16,
     "metadata": {},
     "output_type": "execute_result"
    }
   ],
   "source": [
    "##Coloums name\n",
    "df.columns"
   ]
  },
  {
   "cell_type": "code",
   "execution_count": 22,
   "id": "db5cbb06",
   "metadata": {},
   "outputs": [
    {
     "name": "stdout",
     "output_type": "stream",
     "text": [
      "             phWellWater  Bicarbonate\n",
      "phWellWater     1.000000    -0.339511\n",
      "Bicarbonate    -0.339511     1.000000\n"
     ]
    }
   ],
   "source": [
    "# Calculate the correlation matrix\n",
    "correlation_matrix = df.corr()\n",
    "print(correlation_matrix)"
   ]
  },
  {
   "cell_type": "code",
   "execution_count": 23,
   "id": "bbb08e3b",
   "metadata": {},
   "outputs": [
    {
     "data": {
      "text/html": [
       "<div>\n",
       "<style scoped>\n",
       "    .dataframe tbody tr th:only-of-type {\n",
       "        vertical-align: middle;\n",
       "    }\n",
       "\n",
       "    .dataframe tbody tr th {\n",
       "        vertical-align: top;\n",
       "    }\n",
       "\n",
       "    .dataframe thead th {\n",
       "        text-align: right;\n",
       "    }\n",
       "</style>\n",
       "<table border=\"1\" class=\"dataframe\">\n",
       "  <thead>\n",
       "    <tr style=\"text-align: right;\">\n",
       "      <th></th>\n",
       "      <th>phWellWater</th>\n",
       "      <th>Bicarbonate</th>\n",
       "    </tr>\n",
       "  </thead>\n",
       "  <tbody>\n",
       "    <tr>\n",
       "      <th>phWellWater</th>\n",
       "      <td>1.000000</td>\n",
       "      <td>-0.339511</td>\n",
       "    </tr>\n",
       "    <tr>\n",
       "      <th>Bicarbonate</th>\n",
       "      <td>-0.339511</td>\n",
       "      <td>1.000000</td>\n",
       "    </tr>\n",
       "  </tbody>\n",
       "</table>\n",
       "</div>"
      ],
      "text/plain": [
       "             phWellWater  Bicarbonate\n",
       "phWellWater     1.000000    -0.339511\n",
       "Bicarbonate    -0.339511     1.000000"
      ]
     },
     "execution_count": 23,
     "metadata": {},
     "output_type": "execute_result"
    }
   ],
   "source": [
    "df.corr()"
   ]
  },
  {
   "cell_type": "code",
   "execution_count": 24,
   "id": "a14cba01",
   "metadata": {},
   "outputs": [],
   "source": [
    "##Import library for plotting the graph\n",
    "import matplotlib.pyplot as plt"
   ]
  },
  {
   "cell_type": "code",
   "execution_count": 31,
   "id": "cbd95851",
   "metadata": {},
   "outputs": [
    {
     "data": {
      "image/png": "[encoded data removed]",
      "text/plain": [
       "<Figure size 800x600 with 1 Axes>"
      ]
     },
     "metadata": {},
     "output_type": "display_data"
    }
   ],
   "source": [
    "# Extract x and y values\n",
    "x=df['phWellWater']\n",
    "y=df['Bicarbonate']\n",
    "\n",
    "# Create a scatter plot\n",
    "# Create a scatter plot\n",
    "plt.figure(figsize=(8, 6))  # Set the figure size\n",
    "plt.scatter(x, y, color='blue', marker='o')  # Scatter plot of x vs y\n",
    "plt.title('Scatter Plot of x and y')  # Set the title\n",
    "plt.xlabel('x')  # Set the x-axis label\n",
    "plt.ylabel('y')  # Set the y-axis label\n",
    "plt.grid(True)  # Show grid\n",
    "plt.show()  # Show the plot"
   ]
  },
  {
   "cell_type": "code",
   "execution_count": 36,
   "id": "e0d39347",
   "metadata": {},
   "outputs": [
    {
     "name": "stdout",
     "output_type": "stream",
     "text": [
      "                            OLS Regression Results                            \n",
      "==============================================================================\n",
      "Dep. Variable:            Bicarbonate   R-squared:                       0.115\n",
      "Model:                            OLS   Adj. R-squared:                  0.088\n",
      "Method:                 Least Squares   F-statistic:                     4.169\n",
      "Date:                Tue, 07 May 2024   Prob (F-statistic):             0.0495\n",
      "Time:                        14:01:28   Log-Likelihood:                -182.39\n",
      "No. Observations:                  34   AIC:                             368.8\n",
      "Df Residuals:                      32   BIC:                             371.8\n",
      "Df Model:                           1                                         \n",
      "Covariance Type:            nonrobust                                         \n",
      "===============================================================================\n",
      "                  coef    std err          t      P>|t|      [0.025      0.975]\n",
      "-------------------------------------------------------------------------------\n",
      "const         432.1472    142.006      3.043      0.005     142.890     721.404\n",
      "phWellWater   -37.7658     18.496     -2.042      0.049     -75.441      -0.091\n",
      "==============================================================================\n",
      "Omnibus:                        2.750   Durbin-Watson:                   1.120\n",
      "Prob(Omnibus):                  0.253   Jarque-Bera (JB):                1.380\n",
      "Skew:                           0.068   Prob(JB):                        0.501\n",
      "Kurtosis:                       2.022   Cond. No.                         121.\n",
      "==============================================================================\n",
      "\n",
      "Notes:\n",
      "[1] Standard Errors assume that the covariance matrix of the errors is correctly specified.\n"
     ]
    }
   ],
   "source": [
    "##using Statsmodels\n",
    "import statsmodels.api as sm\n",
    "\n",
    "# Add a constant term to the feature matrix (for the intercept)\n",
    "X = sm.add_constant(x)\n",
    "\n",
    "# Create a Linear Regression model\n",
    "model = sm.OLS(y, X)\n",
    "\n",
    "# Fit the model to the data\n",
    "results = model.fit()\n",
    "\n",
    "# Print the summary statistics\n",
    "print(results.summary())"
   ]
  }
 ],
 "metadata": {
  "kernelspec": {
   "display_name": "Python 3 (ipykernel)",
   "language": "python",
   "name": "python3"
  },
  "language_info": {
   "codemirror_mode": {
    "name": "ipython",
    "version": 3
   },
   "file_extension": ".py",
   "mimetype": "text/x-python",
   "name": "python",
   "nbconvert_exporter": "python",
   "pygments_lexer": "ipython3",
   "version": "3.11.5"
  }
 },
 "nbformat": 4,
 "nbformat_minor": 5
}
