#Import Library pandas
import pandas as pd

#Read the dataset
df=pd.read_table(r'C:\Users\Lenovo\Desktop\Archana Pachupate PC\Praticals\BSc 5 sem\Paper 3\1 st Pratical\GroundWater (1).txt')
df

# Check the first few rows
df.head()

# Check the dimensions (rows and columns)
df.shape

# Check data types of columns
df.dtypes

##Check missing values
df.isnull().sum()

##General information
df.info()

##Coloums name
df.columns


# Calculate the correlation matrix
correlation_matrix = df.corr()
print(correlation_matrix)


df.corr()

##Import library for plotting the graph
import matplotlib.pyplot as plt
# Extract x and y values
x=df['phWellWater']
y=df['Bicarbonate']

# Create a scatter plot
# Create a scatter plot
plt.figure(figsize=(8, 6))  # Set the figure size
plt.scatter(x, y, color='blue', marker='o')  # Scatter plot of x vs y
plt.title('Scatter Plot of x and y')  # Set the title
plt.xlabel('x')  # Set the x-axis label
plt.ylabel('y')  # Set the y-axis label
plt.grid(True)  # Show grid
plt.show()  # Show the plot

##using Statsmodels
import statsmodels.api as sm

# Add a constant term to the feature matrix (for the intercept)
X = sm.add_constant(x)

# Create a Linear Regression model
model = sm.OLS(y, X)

# Fit the model to the data
results = model.fit()

# Print the summary statistics
print(results.summary())

