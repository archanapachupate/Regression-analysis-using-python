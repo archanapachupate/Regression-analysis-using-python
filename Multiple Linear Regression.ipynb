{
 "cells": [
  {
   "cell_type": "markdown",
   "id": "5b469f93",
   "metadata": {},
   "source": [
    "# Multiple Linear Regression"
   ]
  },
  {
   "cell_type": "markdown",
   "id": "cd168bae",
   "metadata": {},
   "source": [
    "Multiple linear regression is used to estimate the relationship between two or more independent variables and one dependent variable. \n",
    "\n",
    "It is used to find:\n",
    "\n",
    "1)How strong the relationship is between two or more independent variables and one dependent variable.\n",
    "\n",
    "2_The value of the dependent variable at a certain value of the independent variables. \n"
   ]
  },
  {
   "cell_type": "markdown",
   "id": "53e1497f",
   "metadata": {},
   "source": [
    "Multiple linear regression formula\n",
    "The formula for a multiple linear regression is:\n",
    "\n",
    "y = b0+b1*x1+b2*x2+.......+bn*xn+e\n",
    "\n",
    "y = the predicted value of the dependent variable\n",
    "\n",
    "bo= the y-intercept (value of y when all other parameters are set to 0)\n",
    "\n",
    "b1x1 = the regression coefficient (B_1) of the first independent variable (X_1) (a.k.a. the effect that increasing the value of the independent variable has on the predicted y value)\n",
    "\n",
    "… = do the same for however many independent variables you are testing\n",
    "bnxn = the regression coefficient of the last independent variable\n",
    "\n",
    "e = model error (a.k.a. how much variation there is in our estimate of y)"
   ]
  },
  {
   "cell_type": "markdown",
   "id": "60b19ff0",
   "metadata": {},
   "source": [
    "Multiple linear regression makes all of the same assumptions as simple linear regression:\n",
    "\n",
    "Homogeneity of variance (homoscedasticity): the size of the error in our prediction doesn’t change significantly across the values of the independent variable.\n",
    "\n",
    "Independence of observations: the observations in the dataset were collected using statistically valid sampling methods, and there are no hidden relationships among variables.\n",
    "\n",
    "In multiple linear regression, it is possible that some of the independent variables are actually correlated with one another, so it is important to check these before developing the regression model. If two independent variables are too highly correlated (r2 > ~0.6), then only one of them should be used in the regression model.\n",
    "\n",
    "Normality: The data follows a normal distribution.\n",
    "\n",
    "Linearity: the line of best fit through the data points is a straight line, rather than a curve or some sort of grouping factor."
   ]
  },
  {
   "cell_type": "code",
   "execution_count": 2,
   "id": "db403692",
   "metadata": {},
   "outputs": [],
   "source": [
    "#Import Library pandas\n",
    "import pandas as pd"
   ]
  },
  {
   "cell_type": "code",
   "execution_count": 3,
   "id": "a4991f17",
   "metadata": {},
   "outputs": [],
   "source": [
    "#Read the dataset\n",
    "df=pd.read_csv(r'C:\\Users\\Lenovo\\Desktop\\Archana Pachupate PC\\Praticals\\BSc 5 sem\\Paper 3\\3 rd Pratical\\Cheddar.csv')"
   ]
  },
  {
   "cell_type": "code",
   "execution_count": 4,
   "id": "deaeca93",
   "metadata": {},
   "outputs": [
    {
     "data": {
      "text/html": [
       "<div>\n",
       "<style scoped>\n",
       "    .dataframe tbody tr th:only-of-type {\n",
       "        vertical-align: middle;\n",
       "    }\n",
       "\n",
       "    .dataframe tbody tr th {\n",
       "        vertical-align: top;\n",
       "    }\n",
       "\n",
       "    .dataframe thead th {\n",
       "        text-align: right;\n",
       "    }\n",
       "</style>\n",
       "<table border=\"1\" class=\"dataframe\">\n",
       "  <thead>\n",
       "    <tr style=\"text-align: right;\">\n",
       "      <th></th>\n",
       "      <th>taste</th>\n",
       "      <th>Acetic</th>\n",
       "      <th>H2S</th>\n",
       "      <th>Lactic</th>\n",
       "    </tr>\n",
       "  </thead>\n",
       "  <tbody>\n",
       "    <tr>\n",
       "      <th>0</th>\n",
       "      <td>12.3</td>\n",
       "      <td>4.543</td>\n",
       "      <td>3.135</td>\n",
       "      <td>0.86</td>\n",
       "    </tr>\n",
       "    <tr>\n",
       "      <th>1</th>\n",
       "      <td>20.9</td>\n",
       "      <td>5.159</td>\n",
       "      <td>5.043</td>\n",
       "      <td>1.53</td>\n",
       "    </tr>\n",
       "    <tr>\n",
       "      <th>2</th>\n",
       "      <td>39.0</td>\n",
       "      <td>5.366</td>\n",
       "      <td>5.438</td>\n",
       "      <td>1.57</td>\n",
       "    </tr>\n",
       "    <tr>\n",
       "      <th>3</th>\n",
       "      <td>47.9</td>\n",
       "      <td>5.759</td>\n",
       "      <td>7.496</td>\n",
       "      <td>1.81</td>\n",
       "    </tr>\n",
       "    <tr>\n",
       "      <th>4</th>\n",
       "      <td>5.6</td>\n",
       "      <td>4.663</td>\n",
       "      <td>3.807</td>\n",
       "      <td>0.99</td>\n",
       "    </tr>\n",
       "    <tr>\n",
       "      <th>5</th>\n",
       "      <td>25.9</td>\n",
       "      <td>5.697</td>\n",
       "      <td>7.601</td>\n",
       "      <td>1.09</td>\n",
       "    </tr>\n",
       "    <tr>\n",
       "      <th>6</th>\n",
       "      <td>37.3</td>\n",
       "      <td>5.892</td>\n",
       "      <td>8.726</td>\n",
       "      <td>1.29</td>\n",
       "    </tr>\n",
       "    <tr>\n",
       "      <th>7</th>\n",
       "      <td>21.9</td>\n",
       "      <td>6.078</td>\n",
       "      <td>7.966</td>\n",
       "      <td>1.78</td>\n",
       "    </tr>\n",
       "    <tr>\n",
       "      <th>8</th>\n",
       "      <td>18.1</td>\n",
       "      <td>4.898</td>\n",
       "      <td>3.850</td>\n",
       "      <td>1.29</td>\n",
       "    </tr>\n",
       "    <tr>\n",
       "      <th>9</th>\n",
       "      <td>21.0</td>\n",
       "      <td>5.242</td>\n",
       "      <td>4.174</td>\n",
       "      <td>1.58</td>\n",
       "    </tr>\n",
       "    <tr>\n",
       "      <th>10</th>\n",
       "      <td>34.9</td>\n",
       "      <td>5.740</td>\n",
       "      <td>6.142</td>\n",
       "      <td>1.68</td>\n",
       "    </tr>\n",
       "    <tr>\n",
       "      <th>11</th>\n",
       "      <td>57.2</td>\n",
       "      <td>6.446</td>\n",
       "      <td>7.908</td>\n",
       "      <td>1.90</td>\n",
       "    </tr>\n",
       "    <tr>\n",
       "      <th>12</th>\n",
       "      <td>0.7</td>\n",
       "      <td>4.477</td>\n",
       "      <td>2.996</td>\n",
       "      <td>1.06</td>\n",
       "    </tr>\n",
       "    <tr>\n",
       "      <th>13</th>\n",
       "      <td>25.9</td>\n",
       "      <td>5.236</td>\n",
       "      <td>4.942</td>\n",
       "      <td>1.30</td>\n",
       "    </tr>\n",
       "    <tr>\n",
       "      <th>14</th>\n",
       "      <td>54.9</td>\n",
       "      <td>6.151</td>\n",
       "      <td>6.752</td>\n",
       "      <td>1.52</td>\n",
       "    </tr>\n",
       "    <tr>\n",
       "      <th>15</th>\n",
       "      <td>40.9</td>\n",
       "      <td>6.365</td>\n",
       "      <td>9.588</td>\n",
       "      <td>1.74</td>\n",
       "    </tr>\n",
       "    <tr>\n",
       "      <th>16</th>\n",
       "      <td>15.9</td>\n",
       "      <td>4.787</td>\n",
       "      <td>3.912</td>\n",
       "      <td>1.16</td>\n",
       "    </tr>\n",
       "    <tr>\n",
       "      <th>17</th>\n",
       "      <td>6.4</td>\n",
       "      <td>5.412</td>\n",
       "      <td>4.700</td>\n",
       "      <td>1.49</td>\n",
       "    </tr>\n",
       "    <tr>\n",
       "      <th>18</th>\n",
       "      <td>18.0</td>\n",
       "      <td>5.247</td>\n",
       "      <td>6.174</td>\n",
       "      <td>1.63</td>\n",
       "    </tr>\n",
       "    <tr>\n",
       "      <th>19</th>\n",
       "      <td>38.9</td>\n",
       "      <td>5.438</td>\n",
       "      <td>9.064</td>\n",
       "      <td>1.99</td>\n",
       "    </tr>\n",
       "    <tr>\n",
       "      <th>20</th>\n",
       "      <td>14.0</td>\n",
       "      <td>4.564</td>\n",
       "      <td>4.949</td>\n",
       "      <td>1.15</td>\n",
       "    </tr>\n",
       "    <tr>\n",
       "      <th>21</th>\n",
       "      <td>15.2</td>\n",
       "      <td>5.298</td>\n",
       "      <td>5.220</td>\n",
       "      <td>1.33</td>\n",
       "    </tr>\n",
       "    <tr>\n",
       "      <th>22</th>\n",
       "      <td>32.0</td>\n",
       "      <td>5.455</td>\n",
       "      <td>9.242</td>\n",
       "      <td>1.44</td>\n",
       "    </tr>\n",
       "    <tr>\n",
       "      <th>23</th>\n",
       "      <td>56.7</td>\n",
       "      <td>5.855</td>\n",
       "      <td>10.199</td>\n",
       "      <td>2.01</td>\n",
       "    </tr>\n",
       "    <tr>\n",
       "      <th>24</th>\n",
       "      <td>16.8</td>\n",
       "      <td>5.366</td>\n",
       "      <td>3.664</td>\n",
       "      <td>1.31</td>\n",
       "    </tr>\n",
       "    <tr>\n",
       "      <th>25</th>\n",
       "      <td>11.6</td>\n",
       "      <td>6.043</td>\n",
       "      <td>3.219</td>\n",
       "      <td>1.46</td>\n",
       "    </tr>\n",
       "    <tr>\n",
       "      <th>26</th>\n",
       "      <td>26.5</td>\n",
       "      <td>6.458</td>\n",
       "      <td>6.962</td>\n",
       "      <td>1.72</td>\n",
       "    </tr>\n",
       "    <tr>\n",
       "      <th>27</th>\n",
       "      <td>0.7</td>\n",
       "      <td>5.328</td>\n",
       "      <td>3.912</td>\n",
       "      <td>1.25</td>\n",
       "    </tr>\n",
       "    <tr>\n",
       "      <th>28</th>\n",
       "      <td>13.4</td>\n",
       "      <td>5.802</td>\n",
       "      <td>6.685</td>\n",
       "      <td>1.08</td>\n",
       "    </tr>\n",
       "    <tr>\n",
       "      <th>29</th>\n",
       "      <td>5.5</td>\n",
       "      <td>6.176</td>\n",
       "      <td>4.787</td>\n",
       "      <td>1.25</td>\n",
       "    </tr>\n",
       "  </tbody>\n",
       "</table>\n",
       "</div>"
      ],
      "text/plain": [
       "    taste  Acetic     H2S  Lactic\n",
       "0    12.3   4.543   3.135    0.86\n",
       "1    20.9   5.159   5.043    1.53\n",
       "2    39.0   5.366   5.438    1.57\n",
       "3    47.9   5.759   7.496    1.81\n",
       "4     5.6   4.663   3.807    0.99\n",
       "5    25.9   5.697   7.601    1.09\n",
       "6    37.3   5.892   8.726    1.29\n",
       "7    21.9   6.078   7.966    1.78\n",
       "8    18.1   4.898   3.850    1.29\n",
       "9    21.0   5.242   4.174    1.58\n",
       "10   34.9   5.740   6.142    1.68\n",
       "11   57.2   6.446   7.908    1.90\n",
       "12    0.7   4.477   2.996    1.06\n",
       "13   25.9   5.236   4.942    1.30\n",
       "14   54.9   6.151   6.752    1.52\n",
       "15   40.9   6.365   9.588    1.74\n",
       "16   15.9   4.787   3.912    1.16\n",
       "17    6.4   5.412   4.700    1.49\n",
       "18   18.0   5.247   6.174    1.63\n",
       "19   38.9   5.438   9.064    1.99\n",
       "20   14.0   4.564   4.949    1.15\n",
       "21   15.2   5.298   5.220    1.33\n",
       "22   32.0   5.455   9.242    1.44\n",
       "23   56.7   5.855  10.199    2.01\n",
       "24   16.8   5.366   3.664    1.31\n",
       "25   11.6   6.043   3.219    1.46\n",
       "26   26.5   6.458   6.962    1.72\n",
       "27    0.7   5.328   3.912    1.25\n",
       "28   13.4   5.802   6.685    1.08\n",
       "29    5.5   6.176   4.787    1.25"
      ]
     },
     "execution_count": 4,
     "metadata": {},
     "output_type": "execute_result"
    }
   ],
   "source": [
    "df"
   ]
  },
  {
   "cell_type": "code",
   "execution_count": 5,
   "id": "6a4e7526",
   "metadata": {},
   "outputs": [
    {
     "data": {
      "text/html": [
       "<div>\n",
       "<style scoped>\n",
       "    .dataframe tbody tr th:only-of-type {\n",
       "        vertical-align: middle;\n",
       "    }\n",
       "\n",
       "    .dataframe tbody tr th {\n",
       "        vertical-align: top;\n",
       "    }\n",
       "\n",
       "    .dataframe thead th {\n",
       "        text-align: right;\n",
       "    }\n",
       "</style>\n",
       "<table border=\"1\" class=\"dataframe\">\n",
       "  <thead>\n",
       "    <tr style=\"text-align: right;\">\n",
       "      <th></th>\n",
       "      <th>taste</th>\n",
       "      <th>Acetic</th>\n",
       "      <th>H2S</th>\n",
       "      <th>Lactic</th>\n",
       "    </tr>\n",
       "  </thead>\n",
       "  <tbody>\n",
       "    <tr>\n",
       "      <th>0</th>\n",
       "      <td>12.3</td>\n",
       "      <td>4.543</td>\n",
       "      <td>3.135</td>\n",
       "      <td>0.86</td>\n",
       "    </tr>\n",
       "    <tr>\n",
       "      <th>1</th>\n",
       "      <td>20.9</td>\n",
       "      <td>5.159</td>\n",
       "      <td>5.043</td>\n",
       "      <td>1.53</td>\n",
       "    </tr>\n",
       "    <tr>\n",
       "      <th>2</th>\n",
       "      <td>39.0</td>\n",
       "      <td>5.366</td>\n",
       "      <td>5.438</td>\n",
       "      <td>1.57</td>\n",
       "    </tr>\n",
       "    <tr>\n",
       "      <th>3</th>\n",
       "      <td>47.9</td>\n",
       "      <td>5.759</td>\n",
       "      <td>7.496</td>\n",
       "      <td>1.81</td>\n",
       "    </tr>\n",
       "    <tr>\n",
       "      <th>4</th>\n",
       "      <td>5.6</td>\n",
       "      <td>4.663</td>\n",
       "      <td>3.807</td>\n",
       "      <td>0.99</td>\n",
       "    </tr>\n",
       "  </tbody>\n",
       "</table>\n",
       "</div>"
      ],
      "text/plain": [
       "   taste  Acetic    H2S  Lactic\n",
       "0   12.3   4.543  3.135    0.86\n",
       "1   20.9   5.159  5.043    1.53\n",
       "2   39.0   5.366  5.438    1.57\n",
       "3   47.9   5.759  7.496    1.81\n",
       "4    5.6   4.663  3.807    0.99"
      ]
     },
     "execution_count": 5,
     "metadata": {},
     "output_type": "execute_result"
    }
   ],
   "source": [
    "# Check the first few rows\n",
    "df.head()"
   ]
  },
  {
   "cell_type": "code",
   "execution_count": 6,
   "id": "bda035a6",
   "metadata": {},
   "outputs": [
    {
     "data": {
      "text/plain": [
       "(30, 4)"
      ]
     },
     "execution_count": 6,
     "metadata": {},
     "output_type": "execute_result"
    }
   ],
   "source": [
    "# Check the dimensions (rows and columns)\n",
    "df.shape"
   ]
  },
  {
   "cell_type": "code",
   "execution_count": 7,
   "id": "2c57b503",
   "metadata": {},
   "outputs": [
    {
     "data": {
      "text/plain": [
       "taste     float64\n",
       "Acetic    float64\n",
       "H2S       float64\n",
       "Lactic    float64\n",
       "dtype: object"
      ]
     },
     "execution_count": 7,
     "metadata": {},
     "output_type": "execute_result"
    }
   ],
   "source": [
    "# Check data types of columns\n",
    "df.dtypes"
   ]
  },
  {
   "cell_type": "code",
   "execution_count": 8,
   "id": "b0eda161",
   "metadata": {},
   "outputs": [
    {
     "data": {
      "text/plain": [
       "taste     0\n",
       "Acetic    0\n",
       "H2S       0\n",
       "Lactic    0\n",
       "dtype: int64"
      ]
     },
     "execution_count": 8,
     "metadata": {},
     "output_type": "execute_result"
    }
   ],
   "source": [
    "##Check missing values\n",
    "df.isnull().sum()"
   ]
  },
  {
   "cell_type": "code",
   "execution_count": 9,
   "id": "9bf828a0",
   "metadata": {},
   "outputs": [
    {
     "name": "stdout",
     "output_type": "stream",
     "text": [
      "<class 'pandas.core.frame.DataFrame'>\n",
      "RangeIndex: 30 entries, 0 to 29\n",
      "Data columns (total 4 columns):\n",
      " #   Column  Non-Null Count  Dtype  \n",
      "---  ------  --------------  -----  \n",
      " 0   taste   30 non-null     float64\n",
      " 1   Acetic  30 non-null     float64\n",
      " 2   H2S     30 non-null     float64\n",
      " 3   Lactic  30 non-null     float64\n",
      "dtypes: float64(4)\n",
      "memory usage: 1.1 KB\n"
     ]
    }
   ],
   "source": [
    "##General information\n",
    "df.info()"
   ]
  },
  {
   "cell_type": "code",
   "execution_count": 10,
   "id": "9fd5ae7a",
   "metadata": {},
   "outputs": [
    {
     "data": {
      "text/plain": [
       "Index(['taste', 'Acetic', 'H2S', 'Lactic'], dtype='object')"
      ]
     },
     "execution_count": 10,
     "metadata": {},
     "output_type": "execute_result"
    }
   ],
   "source": [
    "##Coloums name\n",
    "df.columns"
   ]
  },
  {
   "cell_type": "code",
   "execution_count": 11,
   "id": "5f3ff249",
   "metadata": {},
   "outputs": [
    {
     "name": "stdout",
     "output_type": "stream",
     "text": [
      "           taste    Acetic       H2S    Lactic\n",
      "taste   1.000000  0.549539  0.755752  0.704236\n",
      "Acetic  0.549539  1.000000  0.617956  0.603783\n",
      "H2S     0.755752  0.617956  1.000000  0.644812\n",
      "Lactic  0.704236  0.603783  0.644812  1.000000\n"
     ]
    }
   ],
   "source": [
    "# Calculate the correlation matrix\n",
    "correlation_matrix = df.corr()\n",
    "print(correlation_matrix)"
   ]
  },
  {
   "cell_type": "code",
   "execution_count": 12,
   "id": "6c515290",
   "metadata": {},
   "outputs": [
    {
     "data": {
      "text/html": [
       "<div>\n",
       "<style scoped>\n",
       "    .dataframe tbody tr th:only-of-type {\n",
       "        vertical-align: middle;\n",
       "    }\n",
       "\n",
       "    .dataframe tbody tr th {\n",
       "        vertical-align: top;\n",
       "    }\n",
       "\n",
       "    .dataframe thead th {\n",
       "        text-align: right;\n",
       "    }\n",
       "</style>\n",
       "<table border=\"1\" class=\"dataframe\">\n",
       "  <thead>\n",
       "    <tr style=\"text-align: right;\">\n",
       "      <th></th>\n",
       "      <th>taste</th>\n",
       "      <th>Acetic</th>\n",
       "      <th>H2S</th>\n",
       "      <th>Lactic</th>\n",
       "    </tr>\n",
       "  </thead>\n",
       "  <tbody>\n",
       "    <tr>\n",
       "      <th>taste</th>\n",
       "      <td>1.000000</td>\n",
       "      <td>0.549539</td>\n",
       "      <td>0.755752</td>\n",
       "      <td>0.704236</td>\n",
       "    </tr>\n",
       "    <tr>\n",
       "      <th>Acetic</th>\n",
       "      <td>0.549539</td>\n",
       "      <td>1.000000</td>\n",
       "      <td>0.617956</td>\n",
       "      <td>0.603783</td>\n",
       "    </tr>\n",
       "    <tr>\n",
       "      <th>H2S</th>\n",
       "      <td>0.755752</td>\n",
       "      <td>0.617956</td>\n",
       "      <td>1.000000</td>\n",
       "      <td>0.644812</td>\n",
       "    </tr>\n",
       "    <tr>\n",
       "      <th>Lactic</th>\n",
       "      <td>0.704236</td>\n",
       "      <td>0.603783</td>\n",
       "      <td>0.644812</td>\n",
       "      <td>1.000000</td>\n",
       "    </tr>\n",
       "  </tbody>\n",
       "</table>\n",
       "</div>"
      ],
      "text/plain": [
       "           taste    Acetic       H2S    Lactic\n",
       "taste   1.000000  0.549539  0.755752  0.704236\n",
       "Acetic  0.549539  1.000000  0.617956  0.603783\n",
       "H2S     0.755752  0.617956  1.000000  0.644812\n",
       "Lactic  0.704236  0.603783  0.644812  1.000000"
      ]
     },
     "execution_count": 12,
     "metadata": {},
     "output_type": "execute_result"
    }
   ],
   "source": [
    "df.corr()"
   ]
  },
  {
   "cell_type": "code",
   "execution_count": 13,
   "id": "2eca45a8",
   "metadata": {},
   "outputs": [],
   "source": [
    "import numpy as np\n",
    "import statsmodels.api as sm\n",
    "import matplotlib.pyplot as plt\n",
    "import seaborn as sns"
   ]
  },
  {
   "cell_type": "code",
   "execution_count": 17,
   "id": "3789ef96",
   "metadata": {},
   "outputs": [],
   "source": [
    "# Extract x and y values\n",
    "x=df[['Acetic', 'H2S', 'Lactic']]\n",
    "y=df['taste']"
   ]
  },
  {
   "cell_type": "code",
   "execution_count": 24,
   "id": "da3ac580",
   "metadata": {},
   "outputs": [
    {
     "name": "stdout",
     "output_type": "stream",
     "text": [
      "                            OLS Regression Results                            \n",
      "==============================================================================\n",
      "Dep. Variable:                  taste   R-squared:                       0.652\n",
      "Model:                            OLS   Adj. R-squared:                  0.612\n",
      "Method:                 Least Squares   F-statistic:                     16.22\n",
      "Date:                Wed, 08 May 2024   Prob (F-statistic):           3.81e-06\n",
      "Time:                        11:34:25   Log-Likelihood:                -109.89\n",
      "No. Observations:                  30   AIC:                             227.8\n",
      "Df Residuals:                      26   BIC:                             233.4\n",
      "Df Model:                           3                                         \n",
      "Covariance Type:            nonrobust                                         \n",
      "==============================================================================\n",
      "                 coef    std err          t      P>|t|      [0.025      0.975]\n",
      "------------------------------------------------------------------------------\n",
      "const        -28.8768     19.735     -1.463      0.155     -69.444      11.690\n",
      "Acetic         0.3277      4.460      0.073      0.942      -8.839       9.495\n",
      "H2S            3.9118      1.248      3.133      0.004       1.346       6.478\n",
      "Lactic        19.6705      8.629      2.280      0.031       1.933      37.408\n",
      "==============================================================================\n",
      "Omnibus:                        1.923   Durbin-Watson:                   1.575\n",
      "Prob(Omnibus):                  0.382   Jarque-Bera (JB):                1.143\n",
      "Skew:                           0.474   Prob(JB):                        0.565\n",
      "Kurtosis:                       3.130   Cond. No.                         92.3\n",
      "==============================================================================\n",
      "\n",
      "Notes:\n",
      "[1] Standard Errors assume that the covariance matrix of the errors is correctly specified.\n"
     ]
    }
   ],
   "source": [
    "# Fit multiple linear regression model\n",
    "X = sm.add_constant(x)  # Add constant term for intercept\n",
    "model = sm.OLS(y, X).fit()\n",
    "\n",
    "# Print summary statistics\n",
    "print(model.summary())\n"
   ]
  }
 ],
 "metadata": {
  "kernelspec": {
   "display_name": "Python 3 (ipykernel)",
   "language": "python",
   "name": "python3"
  },
  "language_info": {
   "codemirror_mode": {
    "name": "ipython",
    "version": 3
   },
   "file_extension": ".py",
   "mimetype": "text/x-python",
   "name": "python",
   "nbconvert_exporter": "python",
   "pygments_lexer": "ipython3",
   "version": "3.11.5"
  }
 },
 "nbformat": 4,
 "nbformat_minor": 5
}
